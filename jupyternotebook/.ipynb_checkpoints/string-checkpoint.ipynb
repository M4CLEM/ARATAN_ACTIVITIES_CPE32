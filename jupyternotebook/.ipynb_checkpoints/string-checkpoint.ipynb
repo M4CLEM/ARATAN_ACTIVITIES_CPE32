{
 "cells": [
  {
   "cell_type": "code",
   "execution_count": 1,
   "id": "f608d9cd-6d2f-4d8b-b4c6-e55b8110cfc8",
   "metadata": {},
   "outputs": [
    {
     "name": "stdout",
     "output_type": "stream",
     "text": [
      "Mark Clemence A. Aratan\n",
      "BSCS-3C\n"
     ]
    }
   ],
   "source": [
    "print(\"Mark Clemence A. Aratan\")\n",
    "print(\"BSCS-3C\")"
   ]
  },
  {
   "cell_type": "code",
   "execution_count": 2,
   "id": "570bbe9d-308a-49b6-8517-88b01e0cdbe6",
   "metadata": {},
   "outputs": [
    {
     "name": "stdout",
     "output_type": "stream",
     "text": [
      "Hello World\n"
     ]
    }
   ],
   "source": [
    "print('Hello World')"
   ]
  },
  {
   "cell_type": "code",
   "execution_count": null,
   "id": "ef5a6790-e2d6-46bd-af72-3132670661c2",
   "metadata": {},
   "outputs": [],
   "source": []
  }
 ],
 "metadata": {
  "kernelspec": {
   "display_name": "Python 3 (ipykernel)",
   "language": "python",
   "name": "python3"
  },
  "language_info": {
   "codemirror_mode": {
    "name": "ipython",
    "version": 3
   },
   "file_extension": ".py",
   "mimetype": "text/x-python",
   "name": "python",
   "nbconvert_exporter": "python",
   "pygments_lexer": "ipython3",
   "version": "3.12.2"
  }
 },
 "nbformat": 4,
 "nbformat_minor": 5
}
