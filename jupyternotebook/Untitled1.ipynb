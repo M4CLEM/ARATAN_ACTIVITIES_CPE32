{
 "cells": [
  {
   "cell_type": "code",
   "execution_count": 1,
   "id": "b21ceb59-8311-44c6-bef3-b2c10bedc97e",
   "metadata": {},
   "outputs": [
    {
     "name": "stdout",
     "output_type": "stream",
     "text": [
      "{'apple': 5, 'banana': 10, 'orange': 7}\n"
     ]
    }
   ],
   "source": [
    "my_dict = {'apple': 5, 'banana': 10, 'orange': 7}\n",
    "print(my_dict)"
   ]
  },
  {
   "cell_type": "code",
   "execution_count": 2,
   "id": "bac5da1a-b2a8-41d9-9db9-840d6c3dfe63",
   "metadata": {},
   "outputs": [
    {
     "name": "stdout",
     "output_type": "stream",
     "text": [
      "Value of 'banana': 10\n"
     ]
    }
   ],
   "source": [
    "print(\"Value of 'banana':\", my_dict['banana'])\n"
   ]
  },
  {
   "cell_type": "code",
   "execution_count": 3,
   "id": "68afb23b-6470-4836-8e4a-31d15dc0a230",
   "metadata": {},
   "outputs": [
    {
     "name": "stdout",
     "output_type": "stream",
     "text": [
      "Value of 'banana': 15\n"
     ]
    }
   ],
   "source": [
    "my_dict = {'apple': 5, 'banana': 10, 'orange': 7}\n",
    "my_dict['banana'] = 15\n",
    "print(\"Value of 'banana':\", my_dict['banana'])\n"
   ]
  },
  {
   "cell_type": "code",
   "execution_count": 4,
   "id": "036d4608-f80f-4865-9fd6-3ba654017104",
   "metadata": {
    "scrolled": true
   },
   "outputs": [
    {
     "name": "stdout",
     "output_type": "stream",
     "text": [
      "5\n",
      "10\n",
      "7\n"
     ]
    }
   ],
   "source": [
    "my_dict = {'apple': 5, 'banana': 10, 'orange': 7}\n",
    "for value in my_dict.values():\n",
    "    print(value)"
   ]
  },
  {
   "cell_type": "code",
   "execution_count": 5,
   "id": "89c8345f-4eef-4f30-b4fd-702bd34b0bee",
   "metadata": {},
   "outputs": [
    {
     "name": "stdout",
     "output_type": "stream",
     "text": [
      "'apple' exists in the dictionary.\n"
     ]
    }
   ],
   "source": [
    "my_dict = {'apple': 5, 'banana': 10, 'orange': 7}\n",
    "key_to_check = 'apple'\n",
    "if key_to_check in my_dict:\n",
    "    print(f\"'{key_to_check}' exists in the dictionary.\")\n"
   ]
  },
  {
   "cell_type": "code",
   "execution_count": 6,
   "id": "704bad26-4f9c-4a1b-b573-fb71a79bc52b",
   "metadata": {},
   "outputs": [
    {
     "name": "stdout",
     "output_type": "stream",
     "text": [
      "Length of the dictionary: 3\n"
     ]
    }
   ],
   "source": [
    "my_dict = {'apple': 5, 'banana': 10, 'orange': 7}\n",
    "print(\"Length of the dictionary:\", len(my_dict))"
   ]
  },
  {
   "cell_type": "code",
   "execution_count": 7,
   "id": "b9f7c6db-14af-4f28-ae62-48e722b8827c",
   "metadata": {},
   "outputs": [
    {
     "name": "stdout",
     "output_type": "stream",
     "text": [
      "{'apple': 5, 'banana': 10, 'orange': 7, 'grapes': 12}\n"
     ]
    }
   ],
   "source": [
    "my_dict = {'apple': 5, 'banana': 10, 'orange': 7}\n",
    "my_dict['grapes'] = 12\n",
    "print(my_dict)"
   ]
  },
  {
   "cell_type": "code",
   "execution_count": 8,
   "id": "2ad549d8-4870-47e4-8341-378e94bcaa98",
   "metadata": {},
   "outputs": [
    {
     "name": "stdout",
     "output_type": "stream",
     "text": [
      "{'apple': 5, 'banana': 10}\n"
     ]
    }
   ],
   "source": [
    "my_dict = {'apple': 5, 'banana': 10, 'orange': 7}\n",
    "removed_value = my_dict.pop(\"orange\")\n",
    "print(my_dict)"
   ]
  },
  {
   "cell_type": "code",
   "execution_count": 9,
   "id": "24db524b-7856-4add-92bf-79d1571e4c27",
   "metadata": {},
   "outputs": [
    {
     "ename": "TypeError",
     "evalue": "dict.popitem() takes no arguments (1 given)",
     "output_type": "error",
     "traceback": [
      "\u001b[1;31m---------------------------------------------------------------------------\u001b[0m",
      "\u001b[1;31mTypeError\u001b[0m                                 Traceback (most recent call last)",
      "Cell \u001b[1;32mIn[9], line 2\u001b[0m\n\u001b[0;32m      1\u001b[0m my_dict \u001b[38;5;241m=\u001b[39m {\u001b[38;5;124m'\u001b[39m\u001b[38;5;124mapple\u001b[39m\u001b[38;5;124m'\u001b[39m: \u001b[38;5;241m5\u001b[39m, \u001b[38;5;124m'\u001b[39m\u001b[38;5;124mbanana\u001b[39m\u001b[38;5;124m'\u001b[39m: \u001b[38;5;241m10\u001b[39m, \u001b[38;5;124m'\u001b[39m\u001b[38;5;124morange\u001b[39m\u001b[38;5;124m'\u001b[39m: \u001b[38;5;241m7\u001b[39m}\n\u001b[1;32m----> 2\u001b[0m removed_value \u001b[38;5;241m=\u001b[39m \u001b[43mmy_dict\u001b[49m\u001b[38;5;241;43m.\u001b[39;49m\u001b[43mpopitem\u001b[49m\u001b[43m(\u001b[49m\u001b[38;5;124;43m\"\u001b[39;49m\u001b[38;5;124;43morange\u001b[39;49m\u001b[38;5;124;43m\"\u001b[39;49m\u001b[43m)\u001b[49m\n\u001b[0;32m      3\u001b[0m \u001b[38;5;28mprint\u001b[39m(my_dict)\n",
      "\u001b[1;31mTypeError\u001b[0m: dict.popitem() takes no arguments (1 given)"
     ]
    }
   ],
   "source": [
    "my_dict = {'apple': 5, 'banana': 10, 'orange': 7}\n",
    "removed_value = my_dict.popitem(\"orange\")\n",
    "print(my_dict)"
   ]
  },
  {
   "cell_type": "code",
   "execution_count": 10,
   "id": "65fe4c4e-63cf-4000-ad06-957287b612af",
   "metadata": {},
   "outputs": [
    {
     "ename": "SyntaxError",
     "evalue": "invalid syntax (3305252981.py, line 2)",
     "output_type": "error",
     "traceback": [
      "\u001b[1;36m  Cell \u001b[1;32mIn[10], line 2\u001b[1;36m\u001b[0m\n\u001b[1;33m    removed_value = my_dict.del(\"orange\")\u001b[0m\n\u001b[1;37m                            ^\u001b[0m\n\u001b[1;31mSyntaxError\u001b[0m\u001b[1;31m:\u001b[0m invalid syntax\n"
     ]
    }
   ],
   "source": [
    "my_dict = {'apple': 5, 'banana': 10, 'orange': 7}\n",
    "removed_value = my_dict.del(\"orange\")\n",
    "print(my_dict)"
   ]
  },
  {
   "cell_type": "code",
   "execution_count": 11,
   "id": "99e2c679-0071-4fea-ad2b-9389f1a39688",
   "metadata": {},
   "outputs": [
    {
     "name": "stdout",
     "output_type": "stream",
     "text": [
      "{'apple': 5, 'banana': 10}\n"
     ]
    }
   ],
   "source": [
    "my_dict = {'apple': 5, 'banana': 10, 'orange': 7}\n",
    "del my_dict['orange']\n",
    "print(my_dict)"
   ]
  },
  {
   "cell_type": "code",
   "execution_count": 12,
   "id": "5252e880-b5d7-4a1a-973a-b8fbb0f8ccc7",
   "metadata": {},
   "outputs": [
    {
     "name": "stdout",
     "output_type": "stream",
     "text": [
      "{'apple': 5, 'banana': 10, 'orange': 7}\n"
     ]
    }
   ],
   "source": [
    "new_dict = dict([('apple', 5), ('banana', 10), ('orange', 7)])\n",
    "print(new_dict)"
   ]
  },
  {
   "cell_type": "code",
   "execution_count": 13,
   "id": "7a8d15c6-aff4-4730-b23c-d162dd4c648f",
   "metadata": {},
   "outputs": [
    {
     "name": "stdout",
     "output_type": "stream",
     "text": [
      "Keys in the dictionary: dict_keys(['apple', 'banana', 'orange'])\n",
      "Items in the dictionary: dict_items([('apple', 5), ('banana', 10), ('orange', 7)])\n"
     ]
    }
   ],
   "source": [
    "my_dict = {'apple': 5, 'banana': 10, 'orange': 7}\n",
    "print(\"Keys in the dictionary:\", my_dict.keys())\n",
    "print(\"Items in the dictionary:\", my_dict.items())"
   ]
  },
  {
   "cell_type": "code",
   "execution_count": null,
   "id": "76b0d930-ff27-4e72-8553-7376607bbda7",
   "metadata": {},
   "outputs": [],
   "source": []
  }
 ],
 "metadata": {
  "kernelspec": {
   "display_name": "Python 3 (ipykernel)",
   "language": "python",
   "name": "python3"
  },
  "language_info": {
   "codemirror_mode": {
    "name": "ipython",
    "version": 3
   },
   "file_extension": ".py",
   "mimetype": "text/x-python",
   "name": "python",
   "nbconvert_exporter": "python",
   "pygments_lexer": "ipython3",
   "version": "3.12.2"
  }
 },
 "nbformat": 4,
 "nbformat_minor": 5
}
